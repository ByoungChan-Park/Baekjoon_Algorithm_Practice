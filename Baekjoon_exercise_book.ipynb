{
  "nbformat": 4,
  "nbformat_minor": 0,
  "metadata": {
    "colab": {
      "name": "Baekjoon_exercise-book.ipynb",
      "provenance": [],
      "collapsed_sections": [],
      "authorship_tag": "ABX9TyPgwE6ZKhZs1L22jW9jLv5A",
      "include_colab_link": true
    },
    "kernelspec": {
      "name": "python3",
      "display_name": "Python 3"
    },
    "language_info": {
      "name": "python"
    }
  },
  "cells": [
    {
      "cell_type": "markdown",
      "metadata": {
        "id": "view-in-github",
        "colab_type": "text"
      },
      "source": [
        "<a href=\"https://colab.research.google.com/github/ByoungChan-Park/Baekjoon/blob/main/Baekjoon_exercise_book.ipynb\" target=\"_parent\"><img src=\"https://colab.research.google.com/assets/colab-badge.svg\" alt=\"Open In Colab\"/></a>"
      ]
    },
    {
      "cell_type": "markdown",
      "source": [
        "# Class 1"
      ],
      "metadata": {
        "id": "TMjJoOoyxzqO"
      }
    },
    {
      "cell_type": "markdown",
      "source": [
        "## 22.05.09 / Day_1\n",
        "### repeat plob : 1157, 8958, 10809"
      ],
      "metadata": {
        "id": "F4Rfa9Xoej7m"
      }
    },
    {
      "cell_type": "code",
      "source": [
        "#1000\n",
        "num1, num2 = map(int,input().split())\n",
        "print(num1+num2)"
      ],
      "metadata": {
        "id": "IDw8Ee-qunb-",
        "outputId": "4e58217c-959f-4918-d043-f6a534b05013",
        "colab": {
          "base_uri": "https://localhost:8080/"
        }
      },
      "execution_count": 10,
      "outputs": [
        {
          "output_type": "stream",
          "name": "stdout",
          "text": [
            "4 5\n",
            "0.8\n"
          ]
        }
      ]
    },
    {
      "cell_type": "code",
      "source": [
        "#1001\n",
        "num1, num2 = map(int,input().split())\n",
        "print(num1-num2)"
      ],
      "metadata": {
        "id": "Hv3Ew8WHxId5"
      },
      "execution_count": null,
      "outputs": []
    },
    {
      "cell_type": "code",
      "source": [
        "#1008\n",
        "num1, num2 = map(int,input().split())\n",
        "print(num1/num2)"
      ],
      "metadata": {
        "id": "6FZ-UfncxIgh"
      },
      "execution_count": null,
      "outputs": []
    },
    {
      "cell_type": "code",
      "source": [
        "#1152\n",
        "sentence = input().split()\n",
        "print(len(sentence))"
      ],
      "metadata": {
        "id": "J3M0Ua3kvdIU",
        "outputId": "7a0ece93-c324-44b2-9591-50cb77ba620b",
        "colab": {
          "base_uri": "https://localhost:8080/"
        }
      },
      "execution_count": 20,
      "outputs": [
        {
          "output_type": "stream",
          "name": "stdout",
          "text": [
            "The first character is a blank\n",
            "6\n"
          ]
        }
      ]
    },
    {
      "cell_type": "code",
      "source": [
        "#1157\n",
        "string = input().upper()\n",
        "cnt = {}\n",
        "\n",
        "for i in string:\n",
        "  if i in cnt :\n",
        "    cnt[i] += 1\n",
        "  else :\n",
        "    cnt[i] = 1\n",
        "\n",
        "val = []\n",
        "cnt_max = max(cnt.values())\n",
        "for j, k in cnt.items():\n",
        "  if k == cnt_max:\n",
        "    val.append(j)\n",
        "\n",
        "if len(val) > 1:\n",
        "  print(\"?\")\n",
        "else :\n",
        "  print(\"\".join(val))"
      ],
      "metadata": {
        "id": "9Umd3H-DzpL7",
        "outputId": "0922cdc0-a448-45af-cf77-a8e26a3a1294",
        "colab": {
          "base_uri": "https://localhost:8080/"
        }
      },
      "execution_count": 59,
      "outputs": [
        {
          "output_type": "stream",
          "name": "stdout",
          "text": [
            "z\n",
            "Z\n"
          ]
        }
      ]
    },
    {
      "cell_type": "code",
      "source": [
        "#1157\n",
        "word = input().upper()\n",
        "cnt = {}\n",
        "\n",
        "for i in word : \n",
        "  if i in cnt : \n",
        "    cnt[i] += 1\n",
        "  else : \n",
        "    cnt[i] = 1\n",
        "\n",
        "cnt_max = []\n",
        "\n",
        "for j,k in cnt.items() : \n",
        "  if k == max(cnt.values()) : \n",
        "    cnt_max.append(j)\n",
        "\n",
        "if len(cnt_max) > 1 :\n",
        "  print(\"?\")\n",
        "else :\n",
        "  print(\"\".join(cnt_max))"
      ],
      "metadata": {
        "id": "oT2WirowgWTV",
        "outputId": "0d0ee073-6d70-48f1-a503-1ed9d403ddca",
        "colab": {
          "base_uri": "https://localhost:8080/"
        }
      },
      "execution_count": 72,
      "outputs": [
        {
          "output_type": "stream",
          "name": "stdout",
          "text": [
            "zza\n",
            "Z\n"
          ]
        }
      ]
    },
    {
      "cell_type": "code",
      "source": [
        "#1330\n",
        "A, B = map(int, input().split())\n",
        "\n",
        "if A > B :\n",
        "  print(\">\")\n",
        "elif A < B :\n",
        "  print(\"<\")\n",
        "else :\n",
        "  print(\"==\")"
      ],
      "metadata": {
        "id": "R8OCWol-gW6F",
        "outputId": "e6059836-ce95-4fec-ce50-848b5569ada6",
        "colab": {
          "base_uri": "https://localhost:8080/"
        }
      },
      "execution_count": 80,
      "outputs": [
        {
          "output_type": "stream",
          "name": "stdout",
          "text": [
            "5 10\n",
            "<\n"
          ]
        }
      ]
    },
    {
      "cell_type": "code",
      "source": [
        "#1546\n",
        "subject_cnt = int(input())\n",
        "subject_score = list(map(float, input().split()))\n",
        "\n",
        "fake_avg = []\n",
        "for i in subject_score :\n",
        "    fake_avg.append(i/max(subject_score)*100)\n",
        "\n",
        "print(sum(fake_avg)/subject_cnt)"
      ],
      "metadata": {
        "id": "CRkj4aD3gW8j",
        "outputId": "1a4f0bb9-6079-4202-8ac0-b48085689b20",
        "colab": {
          "base_uri": "https://localhost:8080/"
        }
      },
      "execution_count": 1,
      "outputs": [
        {
          "name": "stdout",
          "output_type": "stream",
          "text": [
            "3\n",
            "40 80 60\n"
          ]
        },
        {
          "output_type": "execute_result",
          "data": {
            "text/plain": [
              "75.0"
            ]
          },
          "metadata": {},
          "execution_count": 1
        }
      ]
    },
    {
      "cell_type": "code",
      "source": [
        "#2438\n",
        "cnt = int(input())\n",
        "for i in range(1,cnt+1):\n",
        "  print('*'*i)"
      ],
      "metadata": {
        "id": "XWn0VMe0gXBo",
        "outputId": "cb19cf25-c45e-467d-a1ae-90806fc9555f",
        "colab": {
          "base_uri": "https://localhost:8080/"
        }
      },
      "execution_count": 29,
      "outputs": [
        {
          "output_type": "stream",
          "name": "stdout",
          "text": [
            "5\n",
            "*\n",
            "**\n",
            "***\n",
            "****\n",
            "*****\n"
          ]
        }
      ]
    },
    {
      "cell_type": "code",
      "source": [
        "#2439\n",
        "cnt = int(input())\n",
        "for i in range(1,cnt+1):\n",
        "  print(' '*(cnt-i) +'*'*i)"
      ],
      "metadata": {
        "id": "OkQhWjDcgXEV",
        "outputId": "52bf8e03-99fa-4cd9-a397-3aad7abe0a5c",
        "colab": {
          "base_uri": "https://localhost:8080/"
        }
      },
      "execution_count": 30,
      "outputs": [
        {
          "output_type": "stream",
          "name": "stdout",
          "text": [
            "5\n",
            "    *\n",
            "   **\n",
            "  ***\n",
            " ****\n",
            "*****\n"
          ]
        }
      ]
    },
    {
      "cell_type": "code",
      "source": [
        "#2475\n",
        "val = list(map(int, input().split()))\n",
        "\n",
        "num = 0\n",
        "for i in val :\n",
        "  num += i**2\n",
        "\n",
        "print(num%10)"
      ],
      "metadata": {
        "id": "5y6LNrYJgXfu",
        "outputId": "26734526-7faf-4669-9ae5-bfe4750383d3",
        "colab": {
          "base_uri": "https://localhost:8080/"
        }
      },
      "execution_count": 13,
      "outputs": [
        {
          "output_type": "stream",
          "name": "stdout",
          "text": [
            "0 4 2 5 6\n",
            "1\n"
          ]
        }
      ]
    },
    {
      "cell_type": "code",
      "source": [
        "#2562\n",
        "num_list = []\n",
        "for num in range(9) :\n",
        "  num_list.append(int(input()))\n",
        "\n",
        "print(max(num_list))\n",
        "print(num_list.index(max(num_list))+1)"
      ],
      "metadata": {
        "id": "SrCsBXwW3kDZ",
        "outputId": "3fb3293a-1408-434f-ed25-808e844d5db5",
        "colab": {
          "base_uri": "https://localhost:8080/"
        }
      },
      "execution_count": 33,
      "outputs": [
        {
          "output_type": "stream",
          "name": "stdout",
          "text": [
            "3\n",
            "29\n",
            "38\n",
            "12\n",
            "57\n",
            "74\n",
            "40\n",
            "85\n",
            "61\n",
            "85\n",
            "8\n"
          ]
        }
      ]
    },
    {
      "cell_type": "code",
      "source": [
        "#2577\n",
        "num_list = []\n",
        "for number in range(3):\n",
        "  num_list.append(int(input()))\n",
        "\n",
        "multiply = str(num_list[0]*num_list[1]*num_list[2])\n",
        "\n",
        "cnt_list = [0]*10\n",
        "\n",
        "for i in multiply :\n",
        "    cnt_list[int(i)] += 1\n",
        "\n",
        "for i in cnt_list :\n",
        "  print(i)"
      ],
      "metadata": {
        "id": "Ah038ZU-gXlF",
        "outputId": "70575c24-4c9c-427d-b74d-c9e384972d1b",
        "colab": {
          "base_uri": "https://localhost:8080/"
        }
      },
      "execution_count": 28,
      "outputs": [
        {
          "output_type": "stream",
          "name": "stdout",
          "text": [
            "150\n",
            "266\n",
            "427\n",
            "3\n",
            "1\n",
            "0\n",
            "2\n",
            "0\n",
            "0\n",
            "0\n",
            "2\n",
            "0\n",
            "0\n"
          ]
        }
      ]
    },
    {
      "cell_type": "code",
      "source": [
        "#2675\n",
        "repeat = int(input())\n",
        "for i in range(repeat):\n",
        "    num, char = input().split()\n",
        "    text = ''\n",
        "    for i in char:\n",
        "        text += int(num) * i\n",
        "    print(text)"
      ],
      "metadata": {
        "id": "BY-Ung4vgXnv",
        "outputId": "264a152e-9ebb-4130-9f3c-448982c501c3",
        "colab": {
          "base_uri": "https://localhost:8080/"
        }
      },
      "execution_count": 44,
      "outputs": [
        {
          "output_type": "stream",
          "name": "stdout",
          "text": [
            "2\n",
            "3 ABC\n",
            "AAABBBCCC\n",
            "5 /HTP\n",
            "/////HHHHHTTTTTPPPPP\n"
          ]
        }
      ]
    },
    {
      "cell_type": "code",
      "source": [
        "#2739\n",
        "num = int(input())\n",
        "for i in range(1,10) :\n",
        "  print(num, '*', i, '=', num*i)"
      ],
      "metadata": {
        "id": "Dp4eOtchgXqo",
        "outputId": "2c3af5ac-be17-46fa-8d13-6b12ae0d3bed",
        "colab": {
          "base_uri": "https://localhost:8080/"
        }
      },
      "execution_count": 49,
      "outputs": [
        {
          "output_type": "stream",
          "name": "stdout",
          "text": [
            "2\n",
            "2 * 1 = 2\n",
            "2 * 2 = 4\n",
            "2 * 3 = 6\n",
            "2 * 4 = 8\n",
            "2 * 5 = 10\n",
            "2 * 6 = 12\n",
            "2 * 7 = 14\n",
            "2 * 8 = 16\n",
            "2 * 9 = 18\n"
          ]
        }
      ]
    },
    {
      "cell_type": "code",
      "source": [
        "#2741\n",
        "num = int(input())\n",
        "for i in range(num) : \n",
        "    print(num-i)"
      ],
      "metadata": {
        "id": "EptMDvvyJ5R5",
        "outputId": "3b34cd09-761f-4764-8939-3ebcc8b71fab",
        "colab": {
          "base_uri": "https://localhost:8080/"
        }
      },
      "execution_count": 58,
      "outputs": [
        {
          "output_type": "stream",
          "name": "stdout",
          "text": [
            "5\n",
            "5\n",
            "4\n",
            "3\n",
            "2\n",
            "1\n"
          ]
        }
      ]
    },
    {
      "cell_type": "code",
      "source": [
        "#2753\n",
        "num = int(input())\n",
        "if (num % 4 == 0) & (num % 100 != 0) | (num % 400 == 0) :\n",
        "  print(1)\n",
        "else :\n",
        "  print(0)"
      ],
      "metadata": {
        "id": "TlrLjAC5LcGb",
        "outputId": "ecbd1504-dd24-4969-f8dc-45f6d78fa37d",
        "colab": {
          "base_uri": "https://localhost:8080/"
        }
      },
      "execution_count": 60,
      "outputs": [
        {
          "output_type": "stream",
          "name": "stdout",
          "text": [
            "1999\n",
            "0\n"
          ]
        }
      ]
    },
    {
      "cell_type": "code",
      "source": [
        "#2884\n",
        "hour, minute = map(int, input().split())\n",
        "\n",
        "if hour < 1 :\n",
        "  if minute < 45 : \n",
        "    print(23, minute+15)\n",
        "  else :\n",
        "    print(hour, minute-45)\n",
        "elif minute < 45 :\n",
        "    print(hour-1, minute+15)\n",
        "else : \n",
        "    print(hour, minute-45)"
      ],
      "metadata": {
        "id": "s5e5efEPL_tl",
        "outputId": "f2015a6a-d967-4f9f-9c1b-02767115b207",
        "colab": {
          "base_uri": "https://localhost:8080/"
        }
      },
      "execution_count": 3,
      "outputs": [
        {
          "output_type": "stream",
          "name": "stdout",
          "text": [
            "0 55\n",
            "0 10\n"
          ]
        }
      ]
    },
    {
      "cell_type": "code",
      "source": [
        "#2908\n",
        "num1, num2 = input().split()\n",
        "\n",
        "num1 = int(num1[::-1])\n",
        "num2 = int(num2[::-1])\n",
        "\n",
        "print(max(num1, num2))"
      ],
      "metadata": {
        "id": "1k9uXcDtL_wL",
        "outputId": "2f9cc18b-b340-443c-ea15-8e46a8c52df7",
        "colab": {
          "base_uri": "https://localhost:8080/"
        }
      },
      "execution_count": 88,
      "outputs": [
        {
          "output_type": "stream",
          "name": "stdout",
          "text": [
            "734 893\n",
            "437\n"
          ]
        }
      ]
    },
    {
      "cell_type": "code",
      "source": [
        "#2920\n",
        "syllable_list = list(map(int, input().split()))\n",
        "\n",
        "if syllable_list == sorted(syllable_list):\n",
        "    print(\"ascending\")\n",
        "elif syllable_list == sorted(syllable_list, reverse = True):\n",
        "    print(\"descending\")\n",
        "else :\n",
        "    print(\"mixed\")"
      ],
      "metadata": {
        "id": "G8n1TGR0L_ys",
        "outputId": "8ecc712f-2efc-498c-e3cb-402a6507399e",
        "colab": {
          "base_uri": "https://localhost:8080/"
        }
      },
      "execution_count": 104,
      "outputs": [
        {
          "output_type": "stream",
          "name": "stdout",
          "text": [
            "1 2 3 4 5 6 7 8\n",
            "ascending\n"
          ]
        }
      ]
    },
    {
      "cell_type": "code",
      "source": [
        "#3052\n",
        "A_list = []\n",
        "for i in range(10) : \n",
        "    A_list.append(int(input()))\n",
        "\n",
        "num_set = set()\n",
        "for i in A_list:\n",
        "    num_set.add(int(i) % 42)\n",
        "\n",
        "print(len(num_set))"
      ],
      "metadata": {
        "id": "miNPZ1diUlhw",
        "outputId": "51c43150-8451-4376-be5f-780c8c48d4b1",
        "colab": {
          "base_uri": "https://localhost:8080/"
        }
      },
      "execution_count": 122,
      "outputs": [
        {
          "output_type": "stream",
          "name": "stdout",
          "text": [
            "42\n",
            "84\n",
            "252\n",
            "420\n",
            "840\n",
            "126\n",
            "42\n",
            "84\n",
            "420\n",
            "126\n",
            "42\n",
            "1\n"
          ]
        }
      ]
    },
    {
      "cell_type": "code",
      "source": [
        "#8958\n",
        "num = int(input())\n",
        "\n",
        "for i in range(num) :\n",
        "    OX_list=list(input())\n",
        "    score = 0\n",
        "    sum_score = 0\n",
        "    for j in OX_list :\n",
        "      if j =='O' :\n",
        "        score += 1\n",
        "        sum_score += score\n",
        "      else : score = 0\n",
        "    print(sum_score)"
      ],
      "metadata": {
        "id": "X6bE9el6L_4A",
        "outputId": "047eabff-702f-47c5-d5e9-7ae60df396ff",
        "colab": {
          "base_uri": "https://localhost:8080/"
        }
      },
      "execution_count": 124,
      "outputs": [
        {
          "output_type": "stream",
          "name": "stdout",
          "text": [
            "5\n",
            "OOXXOXXOOO\n",
            "OOXXOOXXOO\n",
            "OXOXOXOXOXOXOX\n",
            "OOOOOOOOOO\n",
            "OOOOXOOOOXOOOOX\n",
            "30\n"
          ]
        }
      ]
    },
    {
      "cell_type": "code",
      "source": [
        "#9498\n",
        "num = int(input())\n",
        "\n",
        "if num > 89 :\n",
        "  print(\"A\")\n",
        "elif num > 79 :\n",
        "  print(\"B\")\n",
        "elif num > 69 :\n",
        "  print(\"C\")\n",
        "elif num > 59 :\n",
        "  print(\"D\")\n",
        "else : \n",
        "  print(\"F\") \n",
        "\n",
        "# num = int(input())\n",
        "# score= lambda x: 'A' if x > 89 else \"B\" if x > 79 else \"C\" if x > 69 else \"D\" if x > 59 else \"F\", num\n",
        "# print(score(num))"
      ],
      "metadata": {
        "id": "Pg_ybgtHL_6c"
      },
      "execution_count": null,
      "outputs": []
    },
    {
      "cell_type": "code",
      "source": [
        "#10171\n",
        "print(\"\\\\    /\\\\\")\n",
        "print(\" )  ( ')\")\n",
        "print(\"(  /  )\")\n",
        "print(\" \\\\(__)|\")"
      ],
      "metadata": {
        "id": "oSuGIn5Wgmlr",
        "outputId": "605c01ed-69b0-4a79-c375-104a09b3a4a2",
        "colab": {
          "base_uri": "https://localhost:8080/"
        }
      },
      "execution_count": 141,
      "outputs": [
        {
          "output_type": "stream",
          "name": "stdout",
          "text": [
            "\\    /\\\n",
            " )  ( ')\n",
            "(  /  )\n",
            " \\(__)|\n"
          ]
        }
      ]
    },
    {
      "cell_type": "code",
      "source": [
        "#10172\n",
        "print('|\\\\_/|')\n",
        "print('|q p|   /}')\n",
        "print('( 0 )\"\"\"\\\\')\n",
        "print('|\"^\"`    |')\n",
        "print('||_/=\\\\\\\\__|')"
      ],
      "metadata": {
        "id": "ilFQZMlCiPe-",
        "outputId": "b9fba7cc-28b5-4b58-f68e-dccbd875666f",
        "colab": {
          "base_uri": "https://localhost:8080/"
        }
      },
      "execution_count": 143,
      "outputs": [
        {
          "output_type": "stream",
          "name": "stdout",
          "text": [
            "|\\_/|\n",
            "|q p|   /}\n",
            "( 0 )\"\"\"\\\n",
            "|\"^\"`    |\n",
            "||_/=\\\\__|\n"
          ]
        }
      ]
    },
    {
      "cell_type": "code",
      "source": [
        "#10809\n",
        "word = input()\n",
        "alphaList = [chr(c) for c in range(ord('a'), ord('z')+1)]\n",
        "\n",
        "for i in alphaList :\n",
        "  if i in word : \n",
        "    print(word.index(i), end = ' ')\n",
        "  else :\n",
        "    print(-1, end = ' ')"
      ],
      "metadata": {
        "id": "OwnbQfb2iidZ",
        "outputId": "a87c89e0-cd1d-4931-d69f-f81eac0a1a07",
        "colab": {
          "base_uri": "https://localhost:8080/"
        }
      },
      "execution_count": 162,
      "outputs": [
        {
          "output_type": "stream",
          "name": "stdout",
          "text": [
            "baekjoon\n",
            "1 0 -1 -1 2 -1 -1 -1 -1 4 3 -1 -1 7 5 -1 -1 -1 -1 -1 -1 -1 -1 -1 -1 -1 "
          ]
        }
      ]
    },
    {
      "cell_type": "code",
      "source": [
        "#10818\n",
        "repeat = int(input())\n",
        "nums = list(map(int, input().split()))\n",
        "print(min(nums), max(nums))"
      ],
      "metadata": {
        "id": "Gyg9YiG4oiJH",
        "outputId": "b92dee10-f201-4405-87e4-44d47894aef4",
        "colab": {
          "base_uri": "https://localhost:8080/"
        }
      },
      "execution_count": 2,
      "outputs": [
        {
          "output_type": "stream",
          "name": "stdout",
          "text": [
            "5\n",
            "30 27 25 5 7\n",
            "5 30\n"
          ]
        }
      ]
    },
    {
      "cell_type": "code",
      "source": [
        "#10869\n",
        "A, B = map(int, input().split())\n",
        "print(A+B)\n",
        "print(A-B)\n",
        "print(A*B)\n",
        "print(A//B)\n",
        "print(A%B)"
      ],
      "metadata": {
        "id": "V8HeMguIsKF4",
        "outputId": "3cbb7230-c4f9-4def-8e9b-3867e70730e2",
        "colab": {
          "base_uri": "https://localhost:8080/"
        }
      },
      "execution_count": 5,
      "outputs": [
        {
          "output_type": "stream",
          "name": "stdout",
          "text": [
            "7 3\n",
            "10\n",
            "4\n",
            "21\n",
            "2\n",
            "1\n"
          ]
        }
      ]
    },
    {
      "cell_type": "code",
      "source": [
        "#10871\n",
        "N, X = map(int, input().split())\n",
        "values = map(int, input().split())\n",
        "\n",
        "for i in values :\n",
        "  if i < X :\n",
        "    print(i, end=\" \")"
      ],
      "metadata": {
        "id": "VH1OLuf8soy5",
        "outputId": "f8e0ae42-0209-455d-91cf-007db93464ac",
        "colab": {
          "base_uri": "https://localhost:8080/"
        }
      },
      "execution_count": 6,
      "outputs": [
        {
          "output_type": "stream",
          "name": "stdout",
          "text": [
            "10 5\n",
            "1 10 4 9 2 3 8 5 7 6\n",
            "1 4 2 3 "
          ]
        }
      ]
    },
    {
      "cell_type": "code",
      "source": [
        "#10950\n",
        "repeat = int(input())\n",
        "for i in range(repeat) : \n",
        "  A, B = map(int, input().split())\n",
        "  print(A + B)"
      ],
      "metadata": {
        "id": "ajhEDq4uso1x",
        "outputId": "96713673-f2c9-4054-d037-478203943d5e",
        "colab": {
          "base_uri": "https://localhost:8080/"
        }
      },
      "execution_count": 7,
      "outputs": [
        {
          "output_type": "stream",
          "name": "stdout",
          "text": [
            "5\n",
            "1 1\n",
            "2\n",
            "2 3\n",
            "5\n",
            "3 4\n",
            "7\n",
            "9 8\n",
            "17\n",
            "5 2\n",
            "7\n"
          ]
        }
      ]
    },
    {
      "cell_type": "code",
      "source": [
        "#10951\n",
        "try : \n",
        "  while True :\n",
        "    A, B = map(int, input().split())\n",
        "    print(A + B)\n",
        "except : exit()"
      ],
      "metadata": {
        "id": "FKGbcT_NvCP2",
        "outputId": "3f8a792c-2e9f-49f4-b9ba-134dadeb5311",
        "colab": {
          "base_uri": "https://localhost:8080/"
        }
      },
      "execution_count": 1,
      "outputs": [
        {
          "name": "stdout",
          "output_type": "stream",
          "text": [
            "1 1\n",
            "2\n",
            "2 3\n",
            "5\n",
            "\n"
          ]
        }
      ]
    },
    {
      "cell_type": "code",
      "source": [
        "#10952\n",
        "while True : \n",
        "  A, B = map(int,input().split())\n",
        "  if A == 0 & B == 0 :\n",
        "    break\n",
        "  else : print(A + B)"
      ],
      "metadata": {
        "id": "XAk-2YZNso4m",
        "outputId": "65b21385-040d-4c3a-c9a0-4f7f12ad30fc",
        "colab": {
          "base_uri": "https://localhost:8080/"
        }
      },
      "execution_count": 12,
      "outputs": [
        {
          "name": "stdout",
          "output_type": "stream",
          "text": [
            "1 1\n",
            "2\n",
            "2 3\n",
            "5\n",
            "0 0\n"
          ]
        }
      ]
    },
    {
      "cell_type": "code",
      "source": [
        "#10998\n",
        "A, B = map(int, input().split())\n",
        "print(A*B)"
      ],
      "metadata": {
        "id": "l-FKFtTGso7a",
        "outputId": "87fc000d-a762-4337-f624-b5ff6ad24945",
        "colab": {
          "base_uri": "https://localhost:8080/"
        }
      },
      "execution_count": 1,
      "outputs": [
        {
          "output_type": "stream",
          "name": "stdout",
          "text": [
            "1 2\n",
            "2\n"
          ]
        }
      ]
    },
    {
      "cell_type": "code",
      "source": [
        "#11654\n",
        "char = input()\n",
        "print(ord(char))"
      ],
      "metadata": {
        "id": "m4MqwQPqso-a",
        "outputId": "2b288df5-7598-4151-8184-0223480fca72",
        "colab": {
          "base_uri": "https://localhost:8080/"
        }
      },
      "execution_count": 5,
      "outputs": [
        {
          "output_type": "stream",
          "name": "stdout",
          "text": [
            "0\n",
            "48\n"
          ]
        }
      ]
    },
    {
      "cell_type": "code",
      "source": [
        "#11720\n",
        "num1 = int(input())\n",
        "num2 = input()\n",
        "answer = 0\n",
        "\n",
        "for i in num2 :\n",
        "  answer = answer+int(i)\n",
        "print(answer)"
      ],
      "metadata": {
        "id": "Y5qDPc-owhUP",
        "outputId": "b1a3a0d0-2220-411f-d54d-73cd8c379b74",
        "colab": {
          "base_uri": "https://localhost:8080/"
        }
      },
      "execution_count": 8,
      "outputs": [
        {
          "output_type": "stream",
          "name": "stdout",
          "text": [
            "5\n",
            "54321\n",
            "15\n"
          ]
        }
      ]
    },
    {
      "cell_type": "markdown",
      "source": [
        "# Class 2"
      ],
      "metadata": {
        "id": "4gI7sD1Pxtyo"
      }
    },
    {
      "cell_type": "code",
      "source": [
        ""
      ],
      "metadata": {
        "id": "HsuylDKsxiGn"
      },
      "execution_count": null,
      "outputs": []
    },
    {
      "cell_type": "markdown",
      "source": [
        "\n",
        "## 22.05.10 / Day_2\n",
        "### repeat plob : "
      ],
      "metadata": {
        "id": "g39ZcUANxlD_"
      }
    }
  ]
}